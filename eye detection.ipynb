{
 "cells": [
  {
   "cell_type": "markdown",
   "metadata": {},
   "source": [
    "# Eye Detection\n",
    "using opencv-python, take a photo of a person from their webcam and create a circle around their eyes.\n",
    "\n",
    "citations:\n",
    "<br>\n",
    "[0]: https://www.codegrepper.com/code-examples/python/how+to+open+webcam+with+python\n",
    "    how to open webcam with python, (note the check to make sure it isn't already open.)\n",
    "<br>\n",
    "[1]: https://stackoverflow.com/questions/35003476/opencv-python-how-to-detect-if-a-window-is-closed/37881722#37881722\n",
    "    how to close cv2 window with the x button\n",
    "<br>\n",
    "[2]: https://www.programiz.com/python-programming/datetime\n",
    "    formatting date and time\n",
    "<br>\n",
    "[3]: https://ipywidgets.readthedocs.io/en/latest/examples/Widget%20Basics.html\n",
    "    using widgets in python notebook\n",
    "<br>\n",
    "[4]: https://docs.opencv.org/4.x/dd/d1a/group__imgproc__feature.html#ga47849c3be0d0406ad3ca45db65a25d2d\n",
    "    using hough circles"
   ]
  },
  {
   "cell_type": "code",
   "execution_count": 1,
   "metadata": {},
   "outputs": [],
   "source": [
    "import cv2\n",
    "import numpy as np\n",
    "from datetime import datetime\n",
    "import ipywidgets as widgets\n",
    "from IPython.display import display\n",
    "import glob\n",
    "import matplotlib.pyplot as plt\n"
   ]
  },
  {
   "cell_type": "code",
   "execution_count": 2,
   "metadata": {},
   "outputs": [
    {
     "ename": "KeyboardInterrupt",
     "evalue": "",
     "output_type": "error",
     "traceback": [
      "\u001b[1;31m---------------------------------------------------------------------------\u001b[0m",
      "\u001b[1;31mKeyboardInterrupt\u001b[0m                         Traceback (most recent call last)",
      "\u001b[1;32mc:\\Users\\jakob\\OneDrive - Georgia Institute of Technology\\Georgia tech\\extra curicular\\Personal Projects\\Python Projects\\detect-eyes\\eye detection.ipynb Cell 3'\u001b[0m in \u001b[0;36m<cell line: 8>\u001b[1;34m()\u001b[0m\n\u001b[0;32m     <a href='vscode-notebook-cell:/c%3A/Users/jakob/OneDrive%20-%20Georgia%20Institute%20of%20Technology/Georgia%20tech/extra%20curicular/Personal%20Projects/Python%20Projects/detect-eyes/eye%20detection.ipynb#ch0000000?line=10'>11</a>\u001b[0m ret, frame \u001b[39m=\u001b[39m cap\u001b[39m.\u001b[39mread()\n\u001b[0;32m     <a href='vscode-notebook-cell:/c%3A/Users/jakob/OneDrive%20-%20Georgia%20Institute%20of%20Technology/Georgia%20tech/extra%20curicular/Personal%20Projects/Python%20Projects/detect-eyes/eye%20detection.ipynb#ch0000000?line=11'>12</a>\u001b[0m \u001b[39m# frame = cv2.resize(frame, None, fx=0.5, fy=0.5, interpolation=cv2.INTER_AREA)\u001b[39;00m\n\u001b[1;32m---> <a href='vscode-notebook-cell:/c%3A/Users/jakob/OneDrive%20-%20Georgia%20Institute%20of%20Technology/Georgia%20tech/extra%20curicular/Personal%20Projects/Python%20Projects/detect-eyes/eye%20detection.ipynb#ch0000000?line=12'>13</a>\u001b[0m cv2\u001b[39m.\u001b[39;49mimshow(\u001b[39m'\u001b[39;49m\u001b[39mInput\u001b[39;49m\u001b[39m'\u001b[39;49m, frame)\n\u001b[0;32m     <a href='vscode-notebook-cell:/c%3A/Users/jakob/OneDrive%20-%20Georgia%20Institute%20of%20Technology/Georgia%20tech/extra%20curicular/Personal%20Projects/Python%20Projects/detect-eyes/eye%20detection.ipynb#ch0000000?line=14'>15</a>\u001b[0m c \u001b[39m=\u001b[39m cv2\u001b[39m.\u001b[39mwaitKey(\u001b[39m1\u001b[39m)\n\u001b[0;32m     <a href='vscode-notebook-cell:/c%3A/Users/jakob/OneDrive%20-%20Georgia%20Institute%20of%20Technology/Georgia%20tech/extra%20curicular/Personal%20Projects/Python%20Projects/detect-eyes/eye%20detection.ipynb#ch0000000?line=15'>16</a>\u001b[0m \u001b[39mif\u001b[39;00m c \u001b[39m==\u001b[39m \u001b[39mord\u001b[39m(\u001b[39m'\u001b[39m\u001b[39ms\u001b[39m\u001b[39m'\u001b[39m):\n",
      "\u001b[1;31mKeyboardInterrupt\u001b[0m: "
     ]
    }
   ],
   "source": [
    "# for taking photos to capture the face\n",
    "cap = cv2.VideoCapture(0) # opening webcam [0]\n",
    "\n",
    "# Check if the webcam is opened correctly\n",
    "if not cap.isOpened():\n",
    "    raise IOError(\"Cannot open webcam\")\n",
    "\n",
    "try:\n",
    "    cv2.namedWindow(\"Input\", cv2.WINDOW_AUTOSIZE)\n",
    "    while cv2.getWindowProperty('Input', 0) >= 0: # closing with x [1]\n",
    "        ret, frame = cap.read()\n",
    "        # frame = cv2.resize(frame, None, fx=0.5, fy=0.5, interpolation=cv2.INTER_AREA)\n",
    "        cv2.imshow('Input', frame)\n",
    "\n",
    "        c = cv2.waitKey(1)\n",
    "        if c == ord('s'):\n",
    "            timestamp = datetime.now() # format datetime [2]\n",
    "            time = timestamp.strftime(\"%Y%m%d_%H%M%S\")\n",
    "            cv2.imwrite(f\"{time}_face.png\", frame)\n",
    "        if c == ord('q'):\n",
    "            break\n",
    "finally:\n",
    "    cap.release()\n",
    "    cv2.destroyAllWindows()"
   ]
  },
  {
   "cell_type": "code",
   "execution_count": 40,
   "metadata": {},
   "outputs": [
    {
     "data": {
      "application/vnd.jupyter.widget-view+json": {
       "model_id": "0191ed11daf04d1dac294780ad38121a",
       "version_major": 2,
       "version_minor": 0
      },
      "text/plain": [
       "interactive(children=(Dropdown(description='image_url', options=('20220609_202103_face.png', '20220609_202111_…"
      ]
     },
     "metadata": {},
     "output_type": "display_data"
    }
   ],
   "source": [
    "# for drawing edges on the face with canny edge detector\n",
    "def drive_canny(image_url, canny_high_thresh):\n",
    "    img = cv2.imread(image_url)\n",
    "    gray = cv2.cvtColor(img, cv2.COLOR_BGR2GRAY)\n",
    "    edges = cv2.Canny(gray, canny_high_thresh / 2, canny_high_thresh)\n",
    "    fig = plt.figure()\n",
    "    fig.set_size_inches(12, 12)\n",
    "    plt.imshow(edges, cmap='gray')\n",
    "    plt.show()\n",
    "    # change figure size\n",
    "    return edges\n",
    "\n",
    "image_urls = glob.glob(\"*.png\")\n",
    "if len(image_urls) == 0:\n",
    "    raise ValueError(\"No image files found\")\n",
    "display(\n",
    "    widgets.interactive(\n",
    "        drive_canny,\n",
    "        image_url=widgets.Dropdown(\n",
    "            options=image_urls,\n",
    "            value=image_urls[0],\n",
    "        ),\n",
    "        canny_high_thresh=widgets.IntSlider(\n",
    "            value=150,\n",
    "            min=0,\n",
    "            max=255,\n",
    "            step=1,\n",
    "        ),\n",
    "    )\n",
    ")\n"
   ]
  },
  {
   "cell_type": "code",
   "execution_count": 49,
   "metadata": {},
   "outputs": [
    {
     "data": {
      "application/vnd.jupyter.widget-view+json": {
       "model_id": "49f9444775e34953ad2aed348e66020d",
       "version_major": 2,
       "version_minor": 0
      },
      "text/plain": [
       "interactive(children=(Dropdown(description='image_url', options=('20220609_202103_face.png', '20220609_202111_…"
      ]
     },
     "metadata": {},
     "output_type": "display_data"
    }
   ],
   "source": [
    "# detecting circles in edge images with cv2\n",
    "def drive_circles(image_url, method, accumulator_ratio, minDist, param1, param2, min_radius, max_radius): # using cv2.HoughCircles [4]\n",
    "    img = cv2.imread(image_url)\n",
    "    gray = cv2.cvtColor(img, cv2.COLOR_BGR2GRAY)\n",
    "    blur = cv2.GaussianBlur(gray, (7, 7), 1.5)\n",
    "    edges = cv2.Canny(blur, param1 / 2, param1)\n",
    "    circles = cv2.HoughCircles(blur, method, accumulator_ratio, minDist, param1=param1, param2=param2, minRadius=min_radius, maxRadius=max_radius)\n",
    "    if circles is not None:\n",
    "        circles = np.uint16(np.around(circles))\n",
    "        for i in circles[0, :]:\n",
    "            cv2.circle(img, (i[0], i[1]), i[2], (0, 255, 0), 2)\n",
    "            cv2.circle(img, (i[0], i[1]), 2, (0, 0, 255), 3)\n",
    "    \n",
    "    fig, axs = plt.subplots(3, 1, figsize=(32, 12))\n",
    "    img = cv2.cvtColor(img, cv2.COLOR_BGR2RGB)\n",
    "    axs[0].imshow(blur, cmap='gray')\n",
    "    axs[0].set_title('Blurred')\n",
    "    axs[1].imshow(edges)\n",
    "    axs[1].set_title('edges')\n",
    "    axs[2].imshow(img)\n",
    "    axs[2].set_title(f'Detected Circles\\nnum:{len(circles[0]) if circles is not None else 0}')\n",
    "    fig.tight_layout()\n",
    "    plt.show()\n",
    "    # change figure size\n",
    "    return circles\n",
    "\n",
    "# creating an interactive widget for changing the parameters of the hough circle detection [3]\n",
    "display(\n",
    "    widgets.interactive(\n",
    "        drive_circles,\n",
    "        image_url=widgets.Dropdown(\n",
    "            options=image_urls,\n",
    "            value=image_urls[0],\n",
    "        ),\n",
    "        method=widgets.Dropdown(\n",
    "            options=[cv2.HOUGH_GRADIENT, cv2.HOUGH_GRADIENT_ALT],\n",
    "            value=cv2.HOUGH_GRADIENT_ALT,\n",
    "        ),\n",
    "        accumulator_ratio=widgets.FloatSlider(\n",
    "            value=.8,\n",
    "            min=0,\n",
    "            max=3,\n",
    "            step=0.1,\n",
    "        ),\n",
    "        minDist=widgets.FloatSlider(\n",
    "            value=20,\n",
    "            min=0,\n",
    "            max=1000, # should be the distance between the eyes in pixels\n",
    "            step=1,\n",
    "        ),\n",
    "        param1=widgets.FloatSlider(\n",
    "            value=42,\n",
    "            min=0,\n",
    "            max=255,\n",
    "        ),\n",
    "        param2=widgets.FloatSlider(\n",
    "            value=.75,\n",
    "            min=0,\n",
    "            max=30,\n",
    "        ),\n",
    "        min_radius=widgets.IntSlider(\n",
    "            value=5,\n",
    "            min=0,\n",
    "            max=100,\n",
    "            step=1,\n",
    "        ),\n",
    "        max_radius=widgets.IntSlider(\n",
    "            value=15,\n",
    "            min=0,\n",
    "            max=100,\n",
    "            step=1,\n",
    "        ),\n",
    "    )\n",
    ")\n",
    "# with method 3, ie cv2.HOUGH_GRADIENT,\n",
    "# accumulator .1, minDist 20, param1 86, param2 13, min_radius 3, max_radius 15\n",
    "# detected too many circles, ~ 15 per image, but always got eyes\n",
    "\n",
    "# with method 4, ie cv2.HOUGH_GRADIENT_ALT,\n",
    "# accumulator_ratio .8, minDist 20, param1 42, param2 .75, min_radius 5, max_radius 15\n",
    "# detected too many circles, ~ 3 per image, but always got eyes, so much better!"
   ]
  },
  {
   "cell_type": "code",
   "execution_count": 51,
   "metadata": {},
   "outputs": [],
   "source": [
    "# for running eye detection real time\n",
    "cap = cv2.VideoCapture(0) # opening webcam [0]\n",
    "\n",
    "# Check if the webcam is opened correctly\n",
    "if not cap.isOpened():\n",
    "    raise IOError(\"Cannot open webcam\")\n",
    "\n",
    "try:\n",
    "    cv2.namedWindow(\"Input\", cv2.WINDOW_AUTOSIZE)\n",
    "    while cv2.getWindowProperty('Input', 0) >= 0: # closing with x [1]\n",
    "        ret, frame = cap.read()\n",
    "\n",
    "        img = frame\n",
    "        method = cv2.HOUGH_GRADIENT_ALT\n",
    "        accumulator_ratio = .8\n",
    "        minDist =  20\n",
    "        param1 =  42\n",
    "        param2 =  .75\n",
    "        min_radius = 5\n",
    "        max_radius = 15\n",
    "\n",
    "        gray = cv2.cvtColor(img, cv2.COLOR_BGR2GRAY)\n",
    "        blur = cv2.GaussianBlur(gray, (7, 7), 1.5)\n",
    "        edges = cv2.Canny(blur, param1 / 2, param1)\n",
    "        circles = cv2.HoughCircles(blur, method, accumulator_ratio, minDist, param1=param1, param2=param2, minRadius=min_radius, maxRadius=max_radius)\n",
    "        if circles is not None:\n",
    "            circles = np.uint16(np.around(circles))\n",
    "            for i in circles[0, :]:\n",
    "                cv2.circle(img, (i[0], i[1]), i[2], (0, 255, 0), 2)\n",
    "                cv2.circle(img, (i[0], i[1]), 2, (0, 0, 255), 3)\n",
    "        \n",
    "        cv2.imshow('Input', frame)\n",
    "\n",
    "        c = cv2.waitKey(1)\n",
    "        if c == ord('s'):\n",
    "            timestamp = datetime.now() # format datetime [2]\n",
    "            time = timestamp.strftime(\"%Y%m%d_%H%M%S\")\n",
    "            cv2.imwrite(f\"{time}_face_circled.png\", frame)\n",
    "        if c == ord('q'):\n",
    "            break\n",
    "finally:\n",
    "    cap.release()\n",
    "    cv2.destroyAllWindows()"
   ]
  }
 ],
 "metadata": {
  "interpreter": {
   "hash": "8c7d7624c3a816b2d8a89e0cc9efe67bda2c593cd26e28e1ea161c94f6c67824"
  },
  "kernelspec": {
   "display_name": "Python 3.9.12 ('env': venv)",
   "language": "python",
   "name": "python3"
  },
  "language_info": {
   "codemirror_mode": {
    "name": "ipython",
    "version": 3
   },
   "file_extension": ".py",
   "mimetype": "text/x-python",
   "name": "python",
   "nbconvert_exporter": "python",
   "pygments_lexer": "ipython3",
   "version": "3.9.12"
  },
  "orig_nbformat": 4
 },
 "nbformat": 4,
 "nbformat_minor": 2
}
